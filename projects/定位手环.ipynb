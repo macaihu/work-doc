{
 "cells": [
  {
   "cell_type": "markdown",
   "metadata": {},
   "source": [
    "#### 2019.5.7\n",
    "\n",
    "江健 <br>\n",
    "想以后自己做的定位器使用逸协手环的通讯协议。我觉得还是使用json格式好一些。\n",
    "\n",
    "梁剑<br>\n",
    "[逸协腕带定位器] 服务器下发休眠功能状态,服务器下发网络模式切换,服务器下发电击指令,服务器下发腕带播放报警音,服务器下发打开关闭手表功能, 服务器手动下发当前定位功能,下发到设备的告警的中文说明等。"
   ]
  },
  {
   "cell_type": "markdown",
   "metadata": {},
   "source": [
    "#### 2019.5.6\n",
    "\n",
    "梁剑<br>\n",
    "已经可以和逸协手环通讯。"
   ]
  },
  {
   "cell_type": "markdown",
   "metadata": {},
   "source": [
    "#### 2019.5.5\n",
    "\n",
    "王伍<br>\n",
    "司法手环要做，投入有不少，先把规格书写出来，要哪些功能，防水等级等。<br>\n",
    "平台要直接能上集群。"
   ]
  },
  {
   "cell_type": "markdown",
   "metadata": {},
   "source": [
    "#### 2019.4.30\n",
    "\n",
    "江健 虚拟机器上的sql不对，要重装，不需要罗厅额外的帮助。\n",
    "\n",
    "梁剑 先改程序。"
   ]
  },
  {
   "cell_type": "markdown",
   "metadata": {},
   "source": [
    "#### 2019.4.28\n",
    "\n",
    "李忠电话过来说单总来问苹果app的事情，问是否要ios的人道深圳来开发。\n",
    "\n",
    "梁剑 还没有搞定docker，想换一台机器来做。没有副卡了，要去再办一张。\n",
    "\n",
    "江健 162上存在appach,还是不动用了。"
   ]
  }
 ],
 "metadata": {
  "kernelspec": {
   "display_name": "Python 3",
   "language": "python",
   "name": "python3"
  },
  "language_info": {
   "codemirror_mode": {
    "name": "ipython",
    "version": 3
   },
   "file_extension": ".py",
   "mimetype": "text/x-python",
   "name": "python",
   "nbconvert_exporter": "python",
   "pygments_lexer": "ipython3",
   "version": "3.5.2"
  }
 },
 "nbformat": 4,
 "nbformat_minor": 2
}
