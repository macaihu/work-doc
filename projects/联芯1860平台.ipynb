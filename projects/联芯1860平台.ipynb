{
 "cells": [
  {
   "cell_type": "markdown",
   "metadata": {},
   "source": [
    "#### 2019.4.30\n",
    "\n",
    "白俊剑:\n",
    "    多频段样机正在准备中，目前开发状态及问题如下：\n",
    "    1，使用的RDA五模模块存在问题不能使用，已更换回SKYWORK五模。\n",
    "    2，网页锁频专版已完成。有待多测试。\n",
    "    3，TR069锁频专版预计今天能完成。有待多测试。\n",
    "    4，出厂配置暂未测试，预计今天完成。\n",
    "    5，SN号规则更改，因为已经有M60M机型，所以你这里定义的M60M+IMEI会出现冲突。机器型号是否需要改变，铭牌显示和设备内部显示的名称是否要与M60区分？\n",
    "    6，当前该项目处于何种状态，听说你们马上就要回来了，是否仍需要修改？完成时间点定于何时？机器如何送测？"
   ]
  }
 ],
 "metadata": {
  "kernelspec": {
   "display_name": "Python 3",
   "language": "python",
   "name": "python3"
  },
  "language_info": {
   "codemirror_mode": {
    "name": "ipython",
    "version": 3
   },
   "file_extension": ".py",
   "mimetype": "text/x-python",
   "name": "python",
   "nbconvert_exporter": "python",
   "pygments_lexer": "ipython3",
   "version": "3.5.2"
  }
 },
 "nbformat": 4,
 "nbformat_minor": 2
}
