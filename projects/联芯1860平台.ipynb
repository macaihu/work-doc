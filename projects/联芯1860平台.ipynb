{
 "cells": [
  {
   "cell_type": "markdown",
   "metadata": {},
   "source": [
    "#### 2019.5.6\n",
    "\n",
    "白俊剑<br>\n",
    "多模的机器软件已经自己测试了大概，没有详尽的测试。dialog应该已经了解到我们有m60a，没有理由再测试m60。由于dialog出货比slt晚，所以觉得没有供多久就要换芯片，还专门问m60a的供货时间，已经答复为5年。\n",
    "\n",
    "余小虎<br>\n",
    "华为的产品也有可能会升级换代，但只是外观，web ui是一样的。所以感觉上就没有改变很多。<br>\n",
    "节前与Dialog沟通直接测试M60A，他们还是想要同时送测M60，他们根据M60和M60A的测试情况来决定后续如何进行；（需要安排内部对比测试M60和M60A的B40外置性能）"
   ]
  },
  {
   "cell_type": "markdown",
   "metadata": {},
   "source": [
    "#### 2019.4.30\n",
    "\n",
    "白俊剑:<br>\n",
    "    多频段样机正在准备中，目前开发状态及问题如下：\n",
    "   1. 使用的RDA五模模块存在问题不能使用，已更换回SKYWORK五模。\n",
    "   2. 网页锁频专版已完成。有待多测试。\n",
    "   3. TR069锁频专版预计今天能完成。有待多测试。\n",
    "   4. 出厂配置暂未测试，预计今天完成。\n",
    "   5. SN号规则更改，因为已经有M60M机型，所以你这里定义的M60M+IMEI会出现冲突。机器型号是否需要改变，铭牌显示和设备内部显示的名称是否要与M60区分？\n",
    "   6. 当前该项目处于何种状态，听说你们马上就要回来了，是否仍需要修改？完成时间点定于何时？机器如何送测？\n",
    "    \n",
    "余小虎<br>\n",
    "SN规则M60X+IMEI、M60S+IMEI等都可以。修改还是继续进行吧，样机等节后安排人带过来送测。"
   ]
  }
 ],
 "metadata": {
  "kernelspec": {
   "display_name": "Python 3",
   "language": "python",
   "name": "python3"
  },
  "language_info": {
   "codemirror_mode": {
    "name": "ipython",
    "version": 3
   },
   "file_extension": ".py",
   "mimetype": "text/x-python",
   "name": "python",
   "nbconvert_exporter": "python",
   "pygments_lexer": "ipython3",
   "version": "3.5.2"
  }
 },
 "nbformat": 4,
 "nbformat_minor": 2
}
