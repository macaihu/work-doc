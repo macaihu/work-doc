{
 "cells": [
  {
   "cell_type": "markdown",
   "metadata": {},
   "source": [
    "#### 2019.5.7\n",
    "\n",
    "郑达<br>\n",
    "　　这是V10当前最新版本：v1.76 主要修改 实现ntp服务器地址由配置控制 配置名称：    ntp服务器1    ntp服务器2    ntp服务器3"
   ]
  },
  {
   "cell_type": "markdown",
   "metadata": {},
   "source": [
    "#### 2019.5.6\n",
    "\n",
    "余小虎<br>\n",
    "Dialog节前反馈“V10附着B8后，当有较好B40信号时，无法自动附着B40”。节前抓取log，中兴节后分析觉得测试机器射频有问题，B40信号太差导致无法重选，需要重新测试。\n",
    "\n",
    "胡媛媛<br>\n",
    "我中东的程序需要改 NTP server， 客户的 NTP server 是 46.224.1.4 和 46.224.1.2\n",
    "\n",
    "郑达<br>\n",
    "之前做ntp服务，没有把它做成个配置项，看这需求是要把它做成配置了"
   ]
  }
 ],
 "metadata": {
  "kernelspec": {
   "display_name": "Python 3",
   "language": "python",
   "name": "python3"
  },
  "language_info": {
   "codemirror_mode": {
    "name": "ipython",
    "version": 3
   },
   "file_extension": ".py",
   "mimetype": "text/x-python",
   "name": "python",
   "nbconvert_exporter": "python",
   "pygments_lexer": "ipython3",
   "version": "3.5.2"
  }
 },
 "nbformat": 4,
 "nbformat_minor": 2
}
