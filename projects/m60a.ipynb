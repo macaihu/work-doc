{
 "cells": [
  {
   "cell_type": "markdown",
   "metadata": {},
   "source": [
    "#### 2019.5.6\n",
    "\n",
    "余小虎<br>\n",
    "VoLTE/VoIP切换异常在国内无法复现，预计和网络环境有关，可能要等待小毛到前线才能跟进；另外，TR069配置VoIP尚未实现，需要尽快开发。<br>\n",
    "节前永辉测试研发提供的版本，网页升级后WiFi SSID等参数被恢复，排查发现是更新配置内携带了某些参数导致，永辉调整更新配置后解决，需要研发重新编译版本；"
   ]
  },
  {
   "cell_type": "markdown",
   "metadata": {},
   "source": [
    "#### 2019.5.5\n",
    "\n",
    "张跃玲<br>\n",
    "发出邮件询问volte如何去激活。去激活指令不能正常起作用。叶川发出的AT+CVMOD=0这个指令，在兰卡可能会导致搜网速度非常慢。中兴认为没有理由慢，要看log。"
   ]
  },
  {
   "cell_type": "markdown",
   "metadata": {},
   "source": [
    "2019.4.30\n",
    "\n",
    "刘永辉 发出新的dialog m60a bug 表：\n",
    "\n",
    "  编号           |类  | 描述        | 级别 \n",
    "----------------|---|:----:|---------\n",
    "M60A_Dialog_35 |话机  | Dialog程序需移除话机高级设置保护密码,参考Dialog M60 | 严重\n",
    "M60A_Dialog_31|话机|M60A Dialog 增加开关机铃声（参考M60 Dialog）4月29日更新：<br>开关机铃声当前音量太大，需调小音量|严重\n",
    "M60A_Dialog_32|话机 |增加Dialog开机logo<br>4月29日更新：<br>开机logo显示异常：暗淡|严重\n",
    "M60A_Dialog_33|WEB|M60A Dialog 网页加还原话机锁密码功能 只在Operator下开放<br>4月29日更新：<br>1、当前程序做的还原话机锁密码功能实际作用：强制修改话机 高级设置保护密码---功能错误<br>2、需做成还原默认 话机锁 密码 | 严重\n",
    "M60A_Dialog_23|语音|voip和volte需要自动切换 1、当设置了voip服务器地址、用户名、密码，应该自动切换到voip语音模式且无需重启<br>2、当voip参数未设置或未完全设置，语音则应该走volte模式<br>3、通过TR069设置VOIP参数时，也应该遵循如上规则<br>4月26日更新<br>设置voip参数，从volte切换voip失败；<br>删除voip参数，从voip能成功切换到volte(必须要刷新网页才能看到切换)；<br>4月29日更新：<br>1、需做成弹窗提醒是否重启（yes/no）选项|严重\"\n",
    "\n",
    "余小虎\n",
    "开机铃声、开机log、VoLTE/VoIP切换 等仍有待优化；<br>\n",
    "公司提供V1.16，永辉测试发现 网页升级后WiFi SSID被恢复，需要内部排查。（优先处理Dialog M60A，然后再处理该问题）\n"
   ]
  },
  {
   "cell_type": "markdown",
   "metadata": {},
   "source": [
    "#### 2019.4.29\n",
    "\n",
    "刘永辉 发出新的dialog m60a bug 表：\n",
    "\n",
    "　 固件版本：M60a_2.02  编译时间：2019-04-28_16:42   配置：M60A_D-V1.03   CP版本：ML100+_CPE_1E0XXX_V1R06B01P32 　 \n",
    "\n",
    "  编号           |类  | 描述                                 | 级别 \n",
    "-----------------|---|:----:|---------\n",
    "M60A_Dialog_31 | 话机 | M60ADialog 增加开关机铃声（参考M60 Dialog） | 严重\n",
    "M60A_Dialog_32 |　    | 增加Dialog开机logo 　                       | 严重 \n",
    "M60A_Dialog_33 | WEB |M60ADialog 网页加还原话机锁密码功能 只在Operator下开放| 严重 \n",
    "M60A_Dialog_34 |　 |VoIP重注册周期（/usr/system/srsip/setconfig的use_KeepAlive）默认值改为1800，<br>今天要出的Dialog版本可直接修改默认值，建议后续做成可通过配置字段来配置默认值。 　| 严重 \n",
    "M60A_Dialog_23 |语音 |voip和volte需要自动切换 1、当设置了voip服务器地址、用户名、密码，应该自动切换到voip语音模式且无需重启 <br>2、当voip参数未设置或未完全设置，语音则应该走volte模式  <br>3、通过TR069设置VOIP参数时，也应该遵循如上规则 <br>4月26日更新 <br>设置voip参数，从volte切换voip失败； <br>删除voip参数，从voip能成功切换到volte(必须要刷新网页才能看到切换)； | 严重 \n",
    "M60A_Dialog_24 |　 | SN号当前为M60+IMEI，需改为M60A+IMEI 4月28日更新：<br>当前版本SN号为M60a+IMEI；需改为M60A+IMEI | 严重 \n",
    "M60A_Dialog_25 | 语音 | voip模式下，voltePDP没被断开 voip模式下，查询at+cgcontrdp=2，能看到volte的PDP | 严重 \n",
    "M60A_Dialog_26 |　| 默认背光时长需改成10秒 　| 严重 \n",
    "M60A_Dialog_29 | voip |设置通话音量后，通话过程中未被使用 例：手动设置通话音量为最大 <br>1、通话过程中未被使用<br>2、通话过程中按音量+键，则马上应用之前设置的最大音量<br>4月28日更新<br>1、M60A默认通话音量为3格，设置最大音量5格。建立通话后使用的还是3格音量，按音量+键再按确定则应用成功 | 严重 \n",
    " \n",
    "张跃玲 voip和volte自动切换要考虑的问题比较多。试图不重启去注销volte的注册，问叶川要了一些指令，貌似不行，那么就只有去重启设置了。\n"
   ]
  },
  {
   "cell_type": "code",
   "execution_count": null,
   "metadata": {},
   "outputs": [],
   "source": []
  }
 ],
 "metadata": {
  "kernelspec": {
   "display_name": "Python 3",
   "language": "python",
   "name": "python3"
  },
  "language_info": {
   "codemirror_mode": {
    "name": "ipython",
    "version": 3
   },
   "file_extension": ".py",
   "mimetype": "text/x-python",
   "name": "python",
   "nbconvert_exporter": "python",
   "pygments_lexer": "ipython3",
   "version": "3.5.2"
  }
 },
 "nbformat": 4,
 "nbformat_minor": 2
}
