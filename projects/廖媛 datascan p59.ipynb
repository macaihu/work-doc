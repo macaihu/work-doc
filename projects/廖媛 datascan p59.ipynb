{
 "cells": [
  {
   "cell_type": "markdown",
   "metadata": {},
   "source": [
    "#### 2019.5.7\n",
    "\n",
    "Kevin Arnold<br>\n",
    "仍然希望考虑sierra wireless 和ucloudlink.<br>\n",
    "邮件：<br>\n",
    "\n",
    "We need to quote for the Sierra Wireless options and we can also quote for the EC25-AF option. <br>\n",
    "I understand the Sierra Wireless is more expensive, but there is value in having it work throughout the world. We operate in 44 countries and it helps significantly to have a single fleet that works almost globally. The savings by having a single fleet will be compared with the additional cost. <br>\n",
    "Have you had a chance to talk with GlocalMe/uCloudLink? I can send you our contact there if you would like. <br>\n"
   ]
  },
  {
   "cell_type": "markdown",
   "metadata": {},
   "source": [
    "#### 2019.5.6\n",
    "\n",
    "廖媛<br>\n",
    "1.  Sierra wireless module is good ,but very expensive .  we donn't suggest it .\n",
    "\n",
    "Sierra Wireless MC7455  :CAT6 \n",
    "Sierra Wireless EM7565  : CAT12 \n",
    "\n",
    "2. And we would like  suggest  \"Quectel Modules\" ,  both passed AT&T certificate and PTCRB . \n",
    "attached is the spec and related certificate for your reference .\n",
    "\n",
    "1. EC25-A:\n",
    "LTE FDD: B2/B4/B12\n",
    "WCDMA: B2/B4/B5\n",
    "\n",
    "2.  EC25-AF:\n",
    "LTE FDD: B2/B4/B5/B12/B13/B14/B66/B71\n",
    "WCDMA: B2/B4/B5"
   ]
  }
 ],
 "metadata": {
  "kernelspec": {
   "display_name": "Python 3",
   "language": "python",
   "name": "python3"
  },
  "language_info": {
   "codemirror_mode": {
    "name": "ipython",
    "version": 3
   },
   "file_extension": ".py",
   "mimetype": "text/x-python",
   "name": "python",
   "nbconvert_exporter": "python",
   "pygments_lexer": "ipython3",
   "version": "3.5.2"
  }
 },
 "nbformat": 4,
 "nbformat_minor": 2
}
