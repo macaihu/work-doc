{
 "cells": [
  {
   "cell_type": "markdown",
   "metadata": {},
   "source": []
  },
  {
   "cell_type": "markdown",
   "metadata": {},
   "source": [
    "#### 2019.4.27\n",
    "\n",
    "余小虎 样机已到兰卡机场，由于缺乏TRC认证被扣，周一代理商尝试清关;"
   ]
  },
  {
   "cell_type": "markdown",
   "metadata": {},
   "source": [
    "#### 2019.4.26\n",
    "\n",
    "苗立双提醒原来的w13存在ipv6问题，任银善在网络上找到了一个openwrt关于7628nn的ipv6的patch,也是改某个寄存器，ipv6的问题解决了。这次快，一天就搞定了。\n"
   ]
  },
  {
   "cell_type": "markdown",
   "metadata": {},
   "source": [
    "#### 2019.4.25\n",
    "\n",
    "蔡松岩采用多发几次的方面，修正了和室外机通讯的丢包问题，就不再出现w13+按了恢复出厂，而室外机没有恢复出厂的现象。\n",
    "\n",
    "李光达 这个w13+没有测试的机器了，余小虎他们带走了5台。"
   ]
  },
  {
   "cell_type": "markdown",
   "metadata": {},
   "source": [
    "#### 2019.4.16\n",
    "\n",
    "蔡松延和李光大使用新w13一共连接了36个设备。个别网卡得不到ip。"
   ]
  }
 ],
 "metadata": {
  "kernelspec": {
   "display_name": "Python 3",
   "language": "python",
   "name": "python3"
  },
  "language_info": {
   "codemirror_mode": {
    "name": "ipython",
    "version": 3
   },
   "file_extension": ".py",
   "mimetype": "text/x-python",
   "name": "python",
   "nbconvert_exporter": "python",
   "pygments_lexer": "ipython3",
   "version": "3.5.2"
  }
 },
 "nbformat": 4,
 "nbformat_minor": 2
}
