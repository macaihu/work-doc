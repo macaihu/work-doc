{
 "cells": [
  {
   "cell_type": "markdown",
   "metadata": {},
   "source": [
    "#### 2019.5.7\n",
    "\n",
    "刘圣 18118776679<br>\n",
    "和江健去普顺达公司，是个生产企业，会提供样机，包括物联网的样机和给杭州p2p的样机。<br>\n",
    "接口只有一些cgi的，取流只有rstp\n"
   ]
  },
  {
   "cell_type": "markdown",
   "metadata": {},
   "source": [
    "\n",
    "#### 2019.5.6\n",
    "\n",
    "罗厅<br> \n",
    "莫亿万手上还有其他事情，摄像头ios软件未开始。\n",
    "\n",
    "梁剑<br>\n",
    "原来的接口是单个指令的，但是摄像头app一次次调用速度太慢了，要合成一个单一的。还没有开始做。\n",
    "\n",
    "廖学文<br>\n",
    "一、没提供的接口：\n",
    "1、各个页面统一返回初始化值接口；\n",
    "2、设备名称修改接口；\n",
    "3、日志接口；\n",
    "4、修改密码接口；\n",
    "5、关于我们接口；\n",
    "6、版本升级接口；\n",
    "7、添加设备接口加一个\"验证码\"字段；\n",
    "\n",
    "\n",
    "二、调不通的接口：\n",
    "1、设置摄像清晰度；===设置不成功\n",
    "http://113.98.195.202:9000/cmds/send/index.php?{\"needresponse\":\"1\",\"deviceid\":\"521836539\",\"data\":{\"type\":\"video\",\"cmdId\":6,\"cmd\":{\"channel_id\":1,\"level\":2}}}\n",
    "{\"code\":\"SUCCESS\",\"data\":{\"cmd_uuid\":\"5B677101454741D9ABBC4CAF8911AAB8\",\"cmd_status\":1,\"dev_resp\":{\"resp_code\":0,\"resp_data\":\"\"}}}\n",
    "\n",
    "http://113.98.195.202:9000/cmds/query/index.php?{\"deviceid\":\"521836539\",\"cmd-uuid\":\"5B677101454741D9ABBC4CAF8911AAB8\"}\n",
    "{\"code\":\"COMMAND_SEND_TIMEOUT\"}\n",
    "\n",
    "\n",
    "2、首页设备列表缩略图也拿不到\n",
    "请求：http://113.98.195.202:9000/devices/list/index.php?page=1&per_page=10\n",
    "响应：{\"code\":\"SUCCESS\",\"data\":[{\"device_id\":\"521836539\",\"device_title\":\"Camera\",\"online\":true,\"snapshot\":\"713848254A4C4C40AB2A69E1F0841954\"}]}\n",
    "\n",
    "请求：http://113.98.195.202:9000/devices/snapshot/get?deviceid=521836539&cmd_uuid=713848254A4C4C40AB2A69E1F0841954\n",
    "响应：{\"code\":\"SNAPSHOT_NOT_READY\"}\n",
    "\n",
    "\n",
    "3、声音告警设置不成功\n",
    "请求：http://113.98.195.202:9000/cmds/send/index.php?{\"needresponse\":\"1\",\"deviceid\":\"521836539\",\"data\":{\"type\":\"terminal\",\"cmdId\":36,\"cmd\":{\"opt\":\"set\",\"enable\":0,\"sensitivity\":80}}}\n",
    "响应：{\"code\":\"SUCCESS\",\"data\":{\"cmd_uuid\":\"120188849AC140E49D03D405EC1E04CE\",\"cmd_status\":1,\"dev_resp\":{\"resp_code\":0,\"resp_data\":\"\"}}}\n",
    "\n",
    "请求：http://113.98.195.202:9000/cmds/query/index.php?{\"deviceid\":\"521836539\",\"cmd-uuid\":\"120188849AC140E49D03D405EC1E04CE\"}\n",
    "响应：{\"code\":\"COMMAND_SEND_TIMEOUT\"}\n",
    "\n",
    "4、历史录像查询无结果返回；\n",
    "\n",
    "\n",
    "\n",
    "\n",
    "\n",
    "\n",
    "\n",
    "\n"
   ]
  },
  {
   "cell_type": "code",
   "execution_count": null,
   "metadata": {},
   "outputs": [],
   "source": []
  }
 ],
 "metadata": {
  "kernelspec": {
   "display_name": "Python 3",
   "language": "python",
   "name": "python3"
  },
  "language_info": {
   "codemirror_mode": {
    "name": "ipython",
    "version": 3
   },
   "file_extension": ".py",
   "mimetype": "text/x-python",
   "name": "python",
   "nbconvert_exporter": "python",
   "pygments_lexer": "ipython3",
   "version": "3.5.2"
  }
 },
 "nbformat": 4,
 "nbformat_minor": 2
}
