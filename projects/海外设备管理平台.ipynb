{
 "cells": [
  {
   "cell_type": "markdown",
   "metadata": {},
   "source": [
    "#### 2019.5.5\n",
    "\n",
    "陈良 域名备案已经通过."
   ]
  },
  {
   "cell_type": "markdown",
   "metadata": {},
   "source": [
    "#### 2019.4.17\n",
    "\n",
    "陈良 管局那边审核已经通过,今天上传了新域名的相关备案申请,等待审核结果."
   ]
  },
  {
   "cell_type": "markdown",
   "metadata": {},
   "source": [
    "#### 2019.4.8 \n",
    "\n",
    "陈良 照片已经重新拍摄上传,等待管局那边审核."
   ]
  },
  {
   "cell_type": "markdown",
   "metadata": {},
   "source": [
    "#### 2019.4.3\n",
    "\n",
    "陈良  备案资料里面的照片是2017年的,需要重新申请新的幕布,重新拍照,幕布已经申请,等拿到后再重新拍照上传照片."
   ]
  },
  {
   "cell_type": "markdown",
   "metadata": {},
   "source": [
    "#### 2019.3.25\n",
    "\n",
    "陈良 重新提交了资料初审已经通过,等待管局那边审核."
   ]
  },
  {
   "cell_type": "markdown",
   "metadata": {},
   "source": [
    "#### 2019.3.22\n",
    "\n",
    "陈良 正在进行备案,之前提交的资料初审没有通过,目前正在按要求整改,预计明天可以完成."
   ]
  }
 ],
 "metadata": {
  "kernelspec": {
   "display_name": "Python 3",
   "language": "python",
   "name": "python3"
  },
  "language_info": {
   "codemirror_mode": {
    "name": "ipython",
    "version": 3
   },
   "file_extension": ".py",
   "mimetype": "text/x-python",
   "name": "python",
   "nbconvert_exporter": "python",
   "pygments_lexer": "ipython3",
   "version": "3.5.2"
  }
 },
 "nbformat": 4,
 "nbformat_minor": 2
}
