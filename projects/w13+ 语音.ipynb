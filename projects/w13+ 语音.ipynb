{
 "cells": [
  {
   "cell_type": "markdown",
   "metadata": {},
   "source": [
    "#### 019.4.28\n",
    "\n",
    "徐刚雄 设备的slic线断了，没有其他好板子了。"
   ]
  },
  {
   "cell_type": "markdown",
   "metadata": {},
   "source": [
    "#### 2019.4.26\n",
    "\n",
    "蔡松延 把李柱栋的patch加上，发送数据看起来是正常的，片选也貌似正常，但回应感觉不对，示波器量着也不对。从示波器量的情况来看，发送的数据是对的，但是回来的数据和时钟一样的波形，幅度不到1v，所以从逻辑分析器上看就是直线。\n",
    "\n",
    "徐钢雄 在看这个问题。"
   ]
  }
 ],
 "metadata": {
  "kernelspec": {
   "display_name": "Python 3",
   "language": "python",
   "name": "python3"
  },
  "language_info": {
   "codemirror_mode": {
    "name": "ipython",
    "version": 3
   },
   "file_extension": ".py",
   "mimetype": "text/x-python",
   "name": "python",
   "nbconvert_exporter": "python",
   "pygments_lexer": "ipython3",
   "version": "3.5.2"
  }
 },
 "nbformat": 4,
 "nbformat_minor": 2
}
