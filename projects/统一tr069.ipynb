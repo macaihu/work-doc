{
 "cells": [
  {
   "cell_type": "markdown",
   "metadata": {},
   "source": [
    "#### 2019.4.24\n",
    "\n",
    "李柱栋 tr069基础框架已完成上传"
   ]
  },
  {
   "cell_type": "markdown",
   "metadata": {},
   "source": [
    "#### 2019.4.19\n",
    "\n",
    "如晚上的讨论，从sequns, 8905开始，tr069管理程序从统一的代码仓维护，基本做法如下：\n",
    "\n",
    "    1 基础代码，逻辑，配置处理，消息处理等，在基础代码仓中的代码实现。\n",
    "    2 各个平台的节点实现代码，由于取数据，写数据的代码可能差异很大，在平台代码仓中。\n",
    "    3 基础代码行为由cwmpd.conf控制，每个配置项的含义，此文件需要有说明。各平台运行时根据实际nv生成此文件\n",
    "    4 基础代码后期增加的选项，默认为关闭。即保持原有的行为。\n",
    "    5 基础代码提供不重启重读cwmpd.conf的能力。\n",
    "    6 对系统的设置由平台代码的set相关函数采用平台最合适的方式通知其他应用，比如中兴平台可以采用他的消息分发机制，openwrtk而已使用它的ubus系统。\n",
    "    7 基础平台代码从基本版本做起，最好使用patch方式保留原有的修改提交。\n",
    "    8 平台代码一般固定到基础代码仓的某个节点，保证回退版本时编译出正确的程序。\n",
    "    9 当平台代码移动到新基础代码节点时，需要加强测试。\n",
    "\n",
    "任务分工如下：\n",
    "\n",
    "    李柱栋：基础代码仓建设。\n",
    "    周湘理：增加已知的基础代价修正。\n",
    "    张悦玲：在sequns中先实现。"
   ]
  },
  {
   "cell_type": "markdown",
   "metadata": {},
   "source": [
    "#### 2019.4.9\n",
    "\n",
    "周湘理： 程序使用的是tr069自带的http下载功能，当网速不快的时候，容易中断。现在使用wget下载。"
   ]
  }
 ],
 "metadata": {
  "kernelspec": {
   "display_name": "Python 3",
   "language": "python",
   "name": "python3"
  },
  "language_info": {
   "codemirror_mode": {
    "name": "ipython",
    "version": 3
   },
   "file_extension": ".py",
   "mimetype": "text/x-python",
   "name": "python",
   "nbconvert_exporter": "python",
   "pygments_lexer": "ipython3",
   "version": "3.5.2"
  }
 },
 "nbformat": 4,
 "nbformat_minor": 2
}
