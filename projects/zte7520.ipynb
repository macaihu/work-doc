{
 "cells": [
  {
   "cell_type": "markdown",
   "metadata": {},
   "source": [
    "#### 2019.5.6\n",
    "\n",
    "刘云 qtel First official firmware - required modification <br>\n",
    "第一个版本用他们自己UTEL的特性出，不使用运营商的特性。\n",
    "看了下需求，网页要加点图片LOGO，其他有些我们已经满足了，有些参数配置，菜单显示通过配置来配置。\n",
    "\n",
    "陈良<br>\n",
    "SEI-120 安全问题已经修复正在验证,远程升级方面还在分析原因 <br>\n",
    "ZONG(巴基斯坦) 新的版本已出,明天再测试下远程升级就可以发布了. <br>\n",
    "\n"
   ]
  },
  {
   "cell_type": "markdown",
   "metadata": {},
   "source": [
    "#### 2019.5.5\n",
    "\n",
    "叶京平<br>\n",
    "发出sodetel和connect要求的邮件。\n",
    "主要不同点 ：\n",
    "1. 客户APN\n",
    "2. SODETEL 的界面，PLMN 要改成运营商的名子。\n",
    "3. WIFI SSID 定制。\n",
    "\n",
    "陈良<br>\n",
    "机顶盒报出2个安全漏洞，应该是自己测试的时候没有点击到升级页面导致的。<font color=red>向杰已经修改，要测试一下。</font>\n",
    "\n",
    "刘云 \n",
    "<font color=red>可能不是需要l2tp v3。</font>昨天看到的是宽兆的设备的截图，它支持l2tpv3，但是今天刘云发出的邮件中的文件中的截图应该是拨号到一个cisco的机器，然后有个bcp up这样的字样。一方面要问到cisco的型号，一方面可以找个宽兆的设备来试试。\n",
    "另外bcp这个rfc, 从https://www.kernel.org/doc/rfc-linux.html 这个文档来看，linux似乎从来没有支持过https://tools.ietf.org/html/rfc3518 。\n",
    "\n",
    "刘云转发的邮件内容:<br>\n",
    "Actually the requirement is to allow the L2 traffic coming from CPE LAN interface to be passed to a system that resides in Core network like BRAS. Also, BRAS should send L2 traffic to other network like Customer HQ. we did the test with KZtech AM3100V that you can check the attached file about instruction CPE configuration, I can prepare a sample of AM3100V for your test but need to officially email.\n",
    " \n",
    "A more complete description that:\n",
    "What we need from layer2 L2TP in CPE is the functionality called BCP (Bridging Control Protocol). This function allows L2 frames generated from devices connected to CPE LAN to be transported over L2TP tunnel transparently. So, the broadcast domain will be extended from CPE LAN side to WAN side over L2TP tunnel and HQ.\n",
    " \n",
    " \n",
    "    1.         About Bridge We just do it L2 traffic coming from CPE LAN interface.\n",
    "    2.         Reduce the Max time of retry connection’s institution (Reduce connection time)\n",
    "    3.         LTE reconnect issue effect on L2TP re-establish (if for any reason CPE drops and back to the network, there would be no worry whether L2TP BCP can establish)\n",
    "    4.         Provide MTU size button for L2TP layer2 BCP because some banks have software with difference MTU sizes for connection\n",
    "    \n",
    "刘云<br>\n",
    "snmp还需要增加一些内容。"
   ]
  },
  {
   "cell_type": "markdown",
   "metadata": {},
   "source": [
    "#### 2019.5.4\n",
    "\n",
    "刘云 需要支持l2tp v3 <br>\n",
    "客户这边需要把设备卖到银行系统使用，所以有这么个需求,以下是原文解释，附件截图是宽兆设备已经实现了的网页设置截图，供我们参考，\n",
    "看了下，是想实现在L2TP隧道基础上实现2层通信。这个给我们时间开发，没有催的那么急，我们看下怎么实现。\n"
   ]
  },
  {
   "cell_type": "markdown",
   "metadata": {},
   "source": [
    "#### 2019.4.28\n",
    "\n",
    "吴曦:<br>\n",
    "    1.巴基斯坦界面及ussd功能调试，五一之前发给陈良。负责人：汪光华，向杰\n",
    "    2.中东项目，4月27日已经提供第一个程序，可能五一需要配合刘云测试。五一不回家的同事多担待一下。负责人：汪光华，向杰，余辉\n",
    "    3.阿塞拜疆，SNMP节点及其他需求，五一之前提交程序。负责人：吴曦，余辉\n",
    "    4.核对兰卡SLT的需求，以及提供S12（V3）的程序，五一之前提供第一版程序。负责人：吴曦，汪光华，余辉\n",
    "    5.V3E平台调试switch-8306驱动，负责人：吴曦\n",
    "    6.V3E平台调试slic-9641，负责人：汪光华\n",
    "    7.V3E平台添加WAN/LTE自动切换功能，负责人：吴曦，余辉\n",
    "    8.V3平台调试新switch和slic-9643驱动，负责人：吴曦，汪光华\n",
    "    9.V3E平台linux下打包工具以及软件升级筛选文件等；负责人：吴曦，汪光华\n",
    "    10.菲律宾V2模块，添加S12机型，负责人：梁柏华；指导：吴曦"
   ]
  }
 ],
 "metadata": {
  "kernelspec": {
   "display_name": "Python 3",
   "language": "python",
   "name": "python3"
  },
  "language_info": {
   "codemirror_mode": {
    "name": "ipython",
    "version": 3
   },
   "file_extension": ".py",
   "mimetype": "text/x-python",
   "name": "python",
   "nbconvert_exporter": "python",
   "pygments_lexer": "ipython3",
   "version": "3.5.2"
  }
 },
 "nbformat": 4,
 "nbformat_minor": 2
}
