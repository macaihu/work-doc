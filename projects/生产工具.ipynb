{
 "cells": [
  {
   "cell_type": "markdown",
   "metadata": {},
   "source": [
    "#### 2019.5.7\n",
    "\n",
    "梁柏华<br>\n",
    "想要装双系统，但是装挂了。要重装系统。\n"
   ]
  },
  {
   "cell_type": "markdown",
   "metadata": {},
   "source": [
    "#### 2019.5.6\n",
    "\n",
    "余小虎<br>\n",
    "今天提供一拖多工具；<br>\n",
    "4.4 中文版工具在TSC出现乱码，需要赵金提供英文版工具<br>\n",
    "4.18 赵金预计20号能提供英文版工具。Dialog TSC仅用该工具进行一拖多升级，Siyol维修也急需该工具。<br>\n",
    "\n",
    "赵金<br>\n",
    "1、W13机型完善，加入一拖多、单机及数据库功能<br>\n",
    "2、P10P11机型完善，加入一拖多、单机及数据库功能<br>\n",
    "3、P21机型完善，加入一拖多、单机及数据库功能<br>\n",
    "4、中移物联重庆摩托定位器生产测试工具编写<br>\n",
    "5、P11X硬件测试功能添加<br>\n",
    "6、光猫自动升级生产测试工具编写<br>\n",
    "7、江建项目组的另一个定位器生产测试工具编写<br>\n",
    "8、生产工工具改成中英文可选择切换<br>\n",
    "9、生产工具中自动化称重、包装、打印工位的增加<br>\n",
    "10、变形金刚生产工具编写<br>\n",
    "11、配合生产，对目前正在和准备生产的产品进行问题分析、故障处理，上传数据，产线生产工位部署调试等<br>\n",
    "\n",
    "其中8 已接近完成\n",
    "\n",
    "其中 4和6安排给梁柏华完成。\n"
   ]
  }
 ],
 "metadata": {
  "kernelspec": {
   "display_name": "Python 3",
   "language": "python",
   "name": "python3"
  },
  "language_info": {
   "codemirror_mode": {
    "name": "ipython",
    "version": 3
   },
   "file_extension": ".py",
   "mimetype": "text/x-python",
   "name": "python",
   "nbconvert_exporter": "python",
   "pygments_lexer": "ipython3",
   "version": "3.5.2"
  }
 },
 "nbformat": 4,
 "nbformat_minor": 2
}
