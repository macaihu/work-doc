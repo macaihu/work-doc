{
 "cells": [
  {
   "cell_type": "markdown",
   "metadata": {},
   "source": [
    "#### 2019.5.7\n",
    "\n",
    "任银善<br>\n",
    "发出修改后的功能看板。很详细的一个表格。\n",
    "\n"
   ]
  },
  {
   "cell_type": "markdown",
   "metadata": {},
   "source": [
    "#### 2019.5.5\n",
    "\n",
    "毛祖潇<br>\n",
    "目前还需要@颜总和@任工跟进下样机准备进度\n",
    "\n",
    "任银善<br>\n",
    "发出修改后的功能文档和看板。\n",
    "\n",
    "陈良：已和客户那边确认需要提供带语音口的样机. "
   ]
  },
  {
   "cell_type": "markdown",
   "metadata": {},
   "source": [
    "#### 2019.4.29\n",
    "\n",
    "毛祖潇<br>\n",
    "1.良哥已和客户那边确认需要提供带语音口的样机。<br>\n",
    "2.请颜总确认下样机准备进度<br>\n",
    "\n"
   ]
  },
  {
   "cell_type": "markdown",
   "metadata": {},
   "source": [
    "#### 2019.4.28\n",
    "\n",
    "蔡松延\n",
    "问为什么要要求到从master出程序，聊了一段时间，原来是任银善把不同的代码复制好多份，放在不同的目录中，这样以后做比较就非常复杂，非常不方便。使用cherrypick就非常方便。<br>\n",
    "使用少内存的情况下，2.4g打流会导致串口响应非常慢。<br>\n",
    "\n",
    "**<font color=red>要测试一下同时使用光和wifi，速度高的情况是否能挺过去</font>**"
   ]
  },
  {
   "cell_type": "markdown",
   "metadata": {},
   "source": [
    "#### 2019.4.9\n",
    "\n",
    "陈良：gpon安全扫描有5个高危。\n",
    "\n",
    "李光达：泰国3BB V1.2.4简单验证通过，可以发给客户升级测试。\n",
    "\n",
    "蔡松岩：手上好几件事情了，其他事情先评估。"
   ]
  }
 ],
 "metadata": {
  "kernelspec": {
   "display_name": "Python 3",
   "language": "python",
   "name": "python3"
  },
  "language_info": {
   "codemirror_mode": {
    "name": "ipython",
    "version": 3
   },
   "file_extension": ".py",
   "mimetype": "text/x-python",
   "name": "python",
   "nbconvert_exporter": "python",
   "pygments_lexer": "ipython3",
   "version": "3.5.2"
  }
 },
 "nbformat": 4,
 "nbformat_minor": 2
}
