{
 "cells": [
  {
   "cell_type": "markdown",
   "metadata": {},
   "source": [
    "#### 2019.4.29\n",
    "\n",
    "彭丽玲：来了一个面试前端的，做题做得不太好。"
   ]
  },
  {
   "cell_type": "markdown",
   "metadata": {},
   "source": [
    "#### 2019.4.28\n",
    "\n",
    "周湘理 我这边找到了新的工作机会，晚上我们聊一下\n",
    "\n",
    "找了一家汽车电子的公司，公司总部在厦门，深圳只有研发，深圳只有10多个人。主要的槽点： 年终奖少了，不合理。中兴组人多，其实工作也不是很多，而且把很多人都拉过去。2017年有时候远程的时间较晚，p11,p21也花了不少精力。管理上开会少，很少讨论。\n",
    "\n",
    "5年工作经验，同学一般在14-15k。\n",
    "\n",
    "郑荣俊 经常加班。有项目奖，有评级。\n",
    "\n",
    "姚国梁 做手持设备，使用wifi和主机连接，都是很老的界面，还是模拟电路。"
   ]
  },
  {
   "cell_type": "markdown",
   "metadata": {},
   "source": [
    "#### 2019.3.18\n",
    "\n",
    "彭丽玲：有个深圳大学的周六来面试，要求是9k。担心留不住。"
   ]
  }
 ],
 "metadata": {
  "kernelspec": {
   "display_name": "Python 3",
   "language": "python",
   "name": "python3"
  },
  "language_info": {
   "codemirror_mode": {
    "name": "ipython",
    "version": 3
   },
   "file_extension": ".py",
   "mimetype": "text/x-python",
   "name": "python",
   "nbconvert_exporter": "python",
   "pygments_lexer": "ipython3",
   "version": "3.5.2"
  }
 },
 "nbformat": 4,
 "nbformat_minor": 2
}
