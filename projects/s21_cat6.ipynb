{
 "cells": [
  {
   "cell_type": "markdown",
   "metadata": {},
   "source": [
    "#### 2019.4.28\n",
    "\n",
    "郑达 udp问题确实解决了，iperf3可以打流到80多M，但是wget变得非常不稳定，使用多个wget，速度反而下降了。最高能到30MB。<br>\n",
    "向杰5.1前可能没有空。人事招人那里没有动静。问tftp alg是啥东西。<br>\n",
    "usb 2.0 理论速度可以到450M，貌似没有必要使用3.0的样子。<br>\n",
    "使用以太网卡lan wan打流，tcp两个方向可以到600-700M，udp两个方向都只能打到200M的样子，在udp的模式下，softirq的占用率会非常高。<br>\n",
    "开始测试upnp。上次余辉测试的情况是只有汪光华那台电脑能出现额外的端口转发指令，自己的和测试的电脑都不能。\n",
    "\n",
    "江义波 上周来了3天，调了2天的p59。\n",
    "\n",
    "我:小虎，cat6的多apn和多ssid郑达他们号称有了，兰卡能否把这个功能验证一下？<br>\n",
    "余小虎:可以，程序发给永辉吧。永辉说设置 主APN、APN1、APN2、主SSID名称后，重启后这些参数又恢复默认了，没法测试。<br>\n",
    "郑达：这个是由于打开了qxdmlog的原因，非常奇怪。开了它，重启都不行。\n",
    "\n",
    "何旭晨：2.4g 指标已经调好了，5.8g pa厂家还要调。距离还没有测试。第一版测试的情况在110m左右2.4g能用1MB的样子。\n"
   ]
  },
  {
   "cell_type": "markdown",
   "metadata": {},
   "source": [
    "#### 2019.4.27\n",
    "\n",
    "宽翼乔总发了新的驱动，解决iperf3 打流问题，之前没有考虑到一个报文中有多个skb子报文的情况。\n"
   ]
  },
  {
   "cell_type": "markdown",
   "metadata": {},
   "source": [
    "#### 2019.4.26\n",
    "\n",
    "硬件部分，wifi部分改动较大，今天设备来了，开始调整。主要是高信道接收灵敏度不行，距离也不行。提到修改软件参数的问题，以前郑达已经对照变形金刚版修改过一次了。\n",
    "\n",
    "向杰 需要增加wps 2.4G 5.8G, home空白界面填充， 增加sn等\n",
    "\n",
    "封远钊 解bug, 增加arp绑定，upnp， 防ddos，快速设置等\n",
    "\n",
    "江义波 tr069 升级事件上报，对数据，还有https支持验证，需要连到罗厅的平台。原来国外的某个平台的https已经访问不了了。\n",
    "\n",
    "模块打流挂掉的情况，宽翼那里没有仪器了。节后乔总过来深圳调。\n",
    "\n",
    "开关机测试已经超过1000多次，如果直接ping 互联网ip可以在60秒内完成。如果ping域名会有失败的情况。\n",
    "\n",
    "**多apn和多ssid已经完成，需要斯里兰卡验证一下。**\n",
    "\n",
    "开机的时候硬件并没有去reset模块，所以重启的时候模块并没有重启，可以考虑在uboot中完成重启模块的操作。\n",
    "\n",
    "厂测工具正在做，需要完成imei， mac， 升级，4g信号等。\n",
    "\n",
    "这10多天碰到一次模块重启的现象，出现usb disconnect。\n",
    "\n",
    "李柱栋 slic部分操作看起来正常，现在需要at打电话的指令，看看音质如何。pcm部分需要加上alsa支持，需要至少3周的时间。\n",
    "\n",
    "王伍 **要测试一下纯路由情况下的以太网的打流情况。**"
   ]
  },
  {
   "cell_type": "markdown",
   "metadata": {},
   "source": [
    "#### 2019.4.22\n",
    "\n",
    "罗厅 江哥明天w20那边有点事情要弄，周三过来？"
   ]
  },
  {
   "cell_type": "markdown",
   "metadata": {},
   "source": [
    "#### 2019.4.11\n",
    "何旭晨：网上买华为的cat6都没有增值税发票，今天下了一个900多的。"
   ]
  },
  {
   "cell_type": "markdown",
   "metadata": {},
   "source": [
    "#### 2019.4.9\n",
    "\n",
    "郑达：cat6当前主要问题是模块不稳定，现场测试会从cat6脱离。"
   ]
  }
 ],
 "metadata": {
  "kernelspec": {
   "display_name": "Python 3",
   "language": "python",
   "name": "python3"
  },
  "language_info": {
   "codemirror_mode": {
    "name": "ipython",
    "version": 3
   },
   "file_extension": ".py",
   "mimetype": "text/x-python",
   "name": "python",
   "nbconvert_exporter": "python",
   "pygments_lexer": "ipython3",
   "version": "3.5.2"
  }
 },
 "nbformat": 4,
 "nbformat_minor": 2
}
