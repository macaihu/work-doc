{
 "cells": [
  {
   "cell_type": "markdown",
   "metadata": {},
   "source": []
  },
  {
   "cell_type": "markdown",
   "metadata": {},
   "source": [
    "#### 2019.4.27\n",
    "\n",
    "宽翼乔总发了新的驱动，解决iperf3 打流问题，之前没有考虑到一个报文中有多个skb子报文的情况。\n"
   ]
  },
  {
   "cell_type": "markdown",
   "metadata": {},
   "source": [
    "#### 2019.4.26\n",
    "\n",
    "硬件部分，wifi部分改动较大，今天设备来了，开始调整。主要是高信道接收灵敏度不行，距离也不行。提到修改软件参数的问题，以前郑达已经对照变形金刚版修改过一次了。\n",
    "\n",
    "向杰 需要增加wps 2.4G 5.8G, home空白界面填充， 增加sn等\n",
    "\n",
    "封远钊 解bug, 增加arp绑定，upnp， 防ddos，快速设置等\n",
    "\n",
    "江义波 tr069 升级事件上报，对数据，还有https支持验证，需要连到罗厅的平台。原来国外的某个平台的https已经访问不了了。\n",
    "\n",
    "模块打流挂掉的情况，宽翼那里没有仪器了。节后乔总过来深圳调。\n",
    "\n",
    "开关机测试已经超过1000多次，如果直接ping 互联网ip可以在60秒内完成。如果ping域名会有失败的情况。\n",
    "\n",
    "**多apn和多ssid已经完成，需要斯里兰卡验证一下。**\n",
    "\n",
    "开机的时候硬件并没有去reset模块，所以重启的时候模块并没有重启，可以考虑在uboot中完成重启模块的操作。\n",
    "\n",
    "厂测工具正在做，需要完成imei， mac， 升级，4g信号等。\n",
    "\n",
    "这10多天碰到一次模块重启的现象，出现usb disconnect。\n"
   ]
  }
 ],
 "metadata": {
  "kernelspec": {
   "display_name": "Python 3",
   "language": "python",
   "name": "python3"
  },
  "language_info": {
   "codemirror_mode": {
    "name": "ipython",
    "version": 3
   },
   "file_extension": ".py",
   "mimetype": "text/x-python",
   "name": "python",
   "nbconvert_exporter": "python",
   "pygments_lexer": "ipython3",
   "version": "3.5.2"
  }
 },
 "nbformat": 4,
 "nbformat_minor": 2
}
