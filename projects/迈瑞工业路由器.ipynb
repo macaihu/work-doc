{
 "cells": [
  {
   "cell_type": "markdown",
   "metadata": {},
   "source": []
  },
  {
   "cell_type": "markdown",
   "metadata": {},
   "source": [
    "#### 2019.4.26\n",
    "\n",
    "和徐刚雄，雒晓峰一起去迈瑞。刘崇武负责产品选型。透露了一些信息，当前这个产品有3个厂商，映翰通，通则，还有一个是前期给他们代理华为民用级别叫做u fi之类的东西。华为设备的问题在于版本总是变化，他们控制不了。而每个批次的软件都不一样，所以都要重新测试一遍，非常烦恼。这个代理不知道又从那里拿了一款工业路由器来测试。这个代理的名字貌似是鸿景数码的。\n",
    "\n",
    "测试的情况，映翰通的功能看起来比我们多，测速差不多。他迷惑的地方两个机器使用的信号指标不一样，一个用rsrp， 一个用rsri。**当前p53,p59上没有显示rssi**\n",
    "\n",
    "他提了一些奇怪的问题，比如设备是否支持交换功能，如何测试以太网是否能达到性能等。\n"
   ]
  },
  {
   "cell_type": "markdown",
   "metadata": {},
   "source": [
    "#### 2019.4.24\n",
    "\n",
    "雒晓峰组建了一个群，群中有迈瑞的刘工。他发现网页的菜单中没有vpn，重发了一个配置给他。\n"
   ]
  }
 ],
 "metadata": {
  "kernelspec": {
   "display_name": "Python 3",
   "language": "python",
   "name": "python3"
  },
  "language_info": {
   "codemirror_mode": {
    "name": "ipython",
    "version": 3
   },
   "file_extension": ".py",
   "mimetype": "text/x-python",
   "name": "python",
   "nbconvert_exporter": "python",
   "pygments_lexer": "ipython3",
   "version": "3.5.2"
  }
 },
 "nbformat": 4,
 "nbformat_minor": 2
}
